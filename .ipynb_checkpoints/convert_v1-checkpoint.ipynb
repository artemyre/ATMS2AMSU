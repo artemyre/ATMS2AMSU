{
 "cells": [
  {
   "cell_type": "code",
   "execution_count": 80,
   "metadata": {
    "scrolled": true
   },
   "outputs": [
    {
     "name": "stdout",
     "output_type": "stream",
     "text": [
      "[[108.491295 107.58697  106.739876 ...  61.690987  60.274296  58.722366]\n",
      " [108.312325 107.397865 106.54221  ...  61.708553  60.309315  58.769283]\n",
      " [108.09215  107.17938  106.33355  ...  61.69224   60.29273   58.76733 ]\n",
      " ...\n",
      " [ 86.411766  85.72113   85.085594 ...  59.56295   58.851887  58.070454]\n",
      " [ 86.3196    85.634796  85.00125  ...  59.545944  58.844185  58.057606]\n",
      " [ 86.238144  85.55171   84.919914 ...  59.518303  58.81749   58.039997]]\n",
      "[[108.476166 107.57199  106.72496  ...  61.56939   60.142433  58.578407]\n",
      " [108.29698  107.38271  106.527145 ...  61.587864  60.17851   58.62649 ]\n",
      " [108.07668  107.164116 106.31837  ...  61.57218   60.162525  58.62524 ]\n",
      " ...\n",
      " [ 86.3903    85.70046   85.06558  ...  59.503838  58.787807  58.000423]\n",
      " [ 86.298195  85.614174  84.981285 ...  59.487     58.78036   57.987785]\n",
      " [ 86.21677   85.53113   84.89999  ...  59.459446  58.753757  57.970345]]\n",
      "(180, 96, 5)\n",
      "(45, 30)\n",
      "(180, 96)\n"
     ]
    },
    {
     "ename": "ValueError",
     "evalue": "Only 1 and 2 dimensional swaths are allowed",
     "output_type": "error",
     "traceback": [
      "\u001b[0;31m---------------------------------------------------------------------------\u001b[0m",
      "\u001b[0;31mValueError\u001b[0m                                Traceback (most recent call last)",
      "\u001b[0;32m<ipython-input-80-90175c496607>\u001b[0m in \u001b[0;36m<module>\u001b[0;34m\u001b[0m\n\u001b[1;32m     46\u001b[0m \u001b[0marea_extent\u001b[0m\u001b[0;34m=\u001b[0m\u001b[0;34m(\u001b[0m\u001b[0;34m-\u001b[0m\u001b[0;36m1600000.0\u001b[0m\u001b[0;34m,\u001b[0m \u001b[0;34m-\u001b[0m\u001b[0;36m2500000.0\u001b[0m\u001b[0;34m,\u001b[0m \u001b[0;36m1000000.0\u001b[0m\u001b[0;34m,\u001b[0m \u001b[0;36m1000000.0\u001b[0m\u001b[0;34m)\u001b[0m\u001b[0;34m\u001b[0m\u001b[0;34m\u001b[0m\u001b[0m\n\u001b[1;32m     47\u001b[0m \u001b[0;34m\u001b[0m\u001b[0m\n\u001b[0;32m---> 48\u001b[0;31m \u001b[0mswath_def\u001b[0m\u001b[0;34m=\u001b[0m\u001b[0mSwathDefinition\u001b[0m\u001b[0;34m(\u001b[0m\u001b[0mlons\u001b[0m\u001b[0;34m=\u001b[0m\u001b[0mlon_at\u001b[0m\u001b[0;34m,\u001b[0m \u001b[0mlats\u001b[0m\u001b[0;34m=\u001b[0m\u001b[0mlat_at\u001b[0m\u001b[0;34m)\u001b[0m\u001b[0;34m\u001b[0m\u001b[0;34m\u001b[0m\u001b[0m\n\u001b[0m\u001b[1;32m     49\u001b[0m \u001b[0;34m\u001b[0m\u001b[0m\n\u001b[1;32m     50\u001b[0m area_def=AreaDefinition(area_id, description, proj_id, projection,\n",
      "\u001b[0;32m~/virtenv/proj_env/lib/python3.8/site-packages/pyresample/geometry.py\u001b[0m in \u001b[0;36m__init__\u001b[0;34m(self, lons, lats, nprocs)\u001b[0m\n\u001b[1;32m    625\u001b[0m             \u001b[0;32mraise\u001b[0m \u001b[0mValueError\u001b[0m\u001b[0;34m(\u001b[0m\u001b[0;34m'lon and lat arrays must have same shape'\u001b[0m\u001b[0;34m)\u001b[0m\u001b[0;34m\u001b[0m\u001b[0;34m\u001b[0m\u001b[0m\n\u001b[1;32m    626\u001b[0m         \u001b[0;32melif\u001b[0m \u001b[0mlons\u001b[0m\u001b[0;34m.\u001b[0m\u001b[0mndim\u001b[0m \u001b[0;34m>\u001b[0m \u001b[0;36m2\u001b[0m\u001b[0;34m:\u001b[0m\u001b[0;34m\u001b[0m\u001b[0;34m\u001b[0m\u001b[0m\n\u001b[0;32m--> 627\u001b[0;31m             \u001b[0;32mraise\u001b[0m \u001b[0mValueError\u001b[0m\u001b[0;34m(\u001b[0m\u001b[0;34m'Only 1 and 2 dimensional swaths are allowed'\u001b[0m\u001b[0;34m)\u001b[0m\u001b[0;34m\u001b[0m\u001b[0;34m\u001b[0m\u001b[0m\n\u001b[0m\u001b[1;32m    628\u001b[0m \u001b[0;34m\u001b[0m\u001b[0m\n\u001b[1;32m    629\u001b[0m     \u001b[0;32mdef\u001b[0m \u001b[0mcopy\u001b[0m\u001b[0;34m(\u001b[0m\u001b[0mself\u001b[0m\u001b[0;34m)\u001b[0m\u001b[0;34m:\u001b[0m\u001b[0;34m\u001b[0m\u001b[0;34m\u001b[0m\u001b[0m\n",
      "\u001b[0;31mValueError\u001b[0m: Only 1 and 2 dimensional swaths are allowed"
     ]
    }
   ],
   "source": [
    "import h5py\n",
    "import numpy as np\n",
    "from pyhdf.SD import SD,SDC\n",
    "import matplotlib.pyplot as plt\n",
    "from pyresample.kd_tree import resample_nearest\n",
    "from pyresample.geometry import AreaDefinition, SwathDefinition\n",
    "import cartopy.crs as ccrs\n",
    "import cartopy.io.shapereader as shpreader\n",
    "import cartopy.feature as cfeat\n",
    "\n",
    "reader=shpreader.Reader(\"rus_borders/RUS_adm1.shp\")\n",
    "counties=list(reader.geometries())\n",
    "coun=cfeat.ShapelyFeature(counties,ccrs.PlateCarree())\n",
    "\n",
    "atms_file=\"data/GATMO-SATMS_npp_d20150714_t2058223_e2106219_b19231_c20200718094932477386_noaa_ops.h5\"\n",
    "amsu_file=\"data/AIRS.2015.07.14.208.L1B.AMSU_Rad.v5.0.0.0.G15196140249.hdf\"\n",
    "\n",
    "with h5py.File(atms_file, \"r\") as h5data:\n",
    "    lon_at=h5data[\"All_Data/ATMS-SDR-GEO_All/Longitude\"][:]\n",
    "    lat_at=h5data[\"All_Data/ATMS-SDR-GEO_All/Latitude\"][:]\n",
    "    bt_at=h5data[\"All_Data/ATMS-SDR_All/BrightnessTemperature\"][:]\n",
    "    bt_factors_at=h5data[\"All_Data/ATMS-SDR_All/BrightnessTemperatureFactors\"][:]\n",
    "\n",
    "hdf=SD(amsu_file, SDC.READ)\n",
    "\n",
    "lon_am=hdf.select(\"Longitude\")[:]\n",
    "lat_am=hdf.select(\"Latitude\")[:]\n",
    "bt_am=hdf.select(\"brightness_temp\")[:]\n",
    "\n",
    "bt_at=bt_at*bt_factors_at[0]+bt_factors_at[1]\n",
    "\n",
    "ch_1=bt_am[:,:,0]\n",
    "#ch_1=bt_at[:,:,0]\n",
    "lonn=lon_at[:,:,1]\n",
    "print(lon_at[:,:,0])\n",
    "print(lon_at[:,:,1])\n",
    "print(lon_at.shape)\n",
    "print(lon_am.shape)\n",
    "print(lonn.shape)\n",
    "area_id=\"altai_laea\"\n",
    "description=\"Altai Lambert Azimuthal Equal Area grid\"\n",
    "proj_id=\"altai_laea\"\n",
    "projection={\"proj\": \"laea\", \"lat_0\": 52.5, \"lon_0\": 83.5, \"ellps\": \"WGS84\"}\n",
    "width=500\n",
    "height=500\n",
    "area_extent=(-1600000.0, -2500000.0, 1000000.0, 1000000.0)\n",
    "\n",
    "swath_def=SwathDefinition(lons=lon_at, lats=lat_at)\n",
    "\n",
    "area_def=AreaDefinition(area_id, description, proj_id, projection,\n",
    "                        width, height, area_extent)\n",
    "result=resample_nearest(swath_def, ch_1, area_def, \n",
    "                        radius_of_influence=50000, fill_value=None)\n",
    "\n",
    "crs=area_def.to_cartopy_crs()\n",
    "#fig, ax=plt.subplots(subplot_kw=dict(projection=crs))\n",
    "fig=plt.figure(1, figsize=(14,12))\n",
    "ax=plt.subplot(111, projection=crs)\n",
    "ax.add_feature(coun,facecolor=\"none\",edgecolor=\"black\")\n",
    "img=plt.imshow(result, transform=crs, extent=crs.bounds, origin=\"upper\")\n",
    "fig.savefig(\"atms_bt.png\", bbox_inches='tight')"
   ]
  },
  {
   "cell_type": "code",
   "execution_count": null,
   "metadata": {},
   "outputs": [],
   "source": []
  }
 ],
 "metadata": {
  "kernelspec": {
   "display_name": "Python 3",
   "language": "python",
   "name": "python3"
  },
  "language_info": {
   "codemirror_mode": {
    "name": "ipython",
    "version": 3
   },
   "file_extension": ".py",
   "mimetype": "text/x-python",
   "name": "python",
   "nbconvert_exporter": "python",
   "pygments_lexer": "ipython3",
   "version": "3.8.2"
  }
 },
 "nbformat": 4,
 "nbformat_minor": 4
}
